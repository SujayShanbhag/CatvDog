{
 "cells": [
  {
   "cell_type": "markdown",
   "metadata": {
    "id": "3DR-eO17geWu"
   },
   "source": [
    "# Convolutional Neural Network"
   ]
  },
  {
   "cell_type": "markdown",
   "metadata": {
    "id": "EMefrVPCg-60"
   },
   "source": [
    "### Importing the libraries"
   ]
  },
  {
   "cell_type": "code",
   "execution_count": 390,
   "metadata": {
    "id": "sCV30xyVhFbE"
   },
   "outputs": [],
   "source": [
    "import tensorflow as tf\n",
    "from keras.preprocessing.image import ImageDataGenerator"
   ]
  },
  {
   "cell_type": "code",
   "execution_count": 391,
   "metadata": {
    "id": "FIleuCAjoFD8"
   },
   "outputs": [
    {
     "data": {
      "text/plain": [
       "'2.10.0'"
      ]
     },
     "execution_count": 391,
     "metadata": {},
     "output_type": "execute_result"
    }
   ],
   "source": [
    "tf.__version__"
   ]
  },
  {
   "cell_type": "markdown",
   "metadata": {
    "id": "oxQxCBWyoGPE"
   },
   "source": [
    "## Part 1 - Data Preprocessing"
   ]
  },
  {
   "cell_type": "markdown",
   "metadata": {
    "id": "MvE-heJNo3GG"
   },
   "source": [
    "### Preprocessing the Training set"
   ]
  },
  {
   "cell_type": "code",
   "execution_count": 392,
   "metadata": {
    "id": "0koUcJMJpEBD"
   },
   "outputs": [
    {
     "name": "stdout",
     "output_type": "stream",
     "text": [
      "Found 8000 images belonging to 2 classes.\n"
     ]
    }
   ],
   "source": [
    "train_datagen = ImageDataGenerator(rescale = 1./255,\n",
    "                                   shear_range = 0.2,\n",
    "                                   zoom_range = 0.2,\n",
    "                                   horizontal_flip = True)\n",
    "training_set = train_datagen.flow_from_directory('dataset/training_set',\n",
    "                                                 target_size = (128, 128),\n",
    "                                                 batch_size = 32,\n",
    "                                                 class_mode = 'binary')"
   ]
  },
  {
   "cell_type": "markdown",
   "metadata": {
    "id": "mrCMmGw9pHys"
   },
   "source": [
    "### Preprocessing the Test set"
   ]
  },
  {
   "cell_type": "code",
   "execution_count": 393,
   "metadata": {
    "id": "SH4WzfOhpKc3"
   },
   "outputs": [
    {
     "name": "stdout",
     "output_type": "stream",
     "text": [
      "Found 2000 images belonging to 2 classes.\n"
     ]
    }
   ],
   "source": [
    "test_datagen = ImageDataGenerator(rescale = 1./255)\n",
    "test_set = test_datagen.flow_from_directory('dataset/test_set',\n",
    "                                            target_size = (128, 128),\n",
    "                                            batch_size = 32,\n",
    "                                            class_mode = 'binary')"
   ]
  },
  {
   "cell_type": "markdown",
   "metadata": {
    "id": "af8O4l90gk7B"
   },
   "source": [
    "## Part 2 - Building the CNN"
   ]
  },
  {
   "cell_type": "markdown",
   "metadata": {
    "id": "ces1gXY2lmoX"
   },
   "source": [
    "### Initialising the CNN"
   ]
  },
  {
   "cell_type": "code",
   "execution_count": 394,
   "metadata": {
    "id": "SAUt4UMPlhLS"
   },
   "outputs": [],
   "source": [
    "cnn = tf.keras.models.Sequential()"
   ]
  },
  {
   "cell_type": "markdown",
   "metadata": {
    "id": "u5YJj_XMl5LF"
   },
   "source": [
    "### Step 1 - Convolution"
   ]
  },
  {
   "cell_type": "code",
   "execution_count": 395,
   "metadata": {
    "id": "XPzPrMckl-hV"
   },
   "outputs": [],
   "source": [
    "cnn.add(tf.keras.layers.Conv2D(filters=32, kernel_size=3, activation='relu', input_shape=[128, 128, 3]))"
   ]
  },
  {
   "cell_type": "markdown",
   "metadata": {
    "id": "tf87FpvxmNOJ"
   },
   "source": [
    "### Step 2 - Pooling"
   ]
  },
  {
   "cell_type": "code",
   "execution_count": 396,
   "metadata": {
    "id": "ncpqPl69mOac"
   },
   "outputs": [],
   "source": [
    "cnn.add(tf.keras.layers.MaxPool2D(pool_size=2, strides=2))"
   ]
  },
  {
   "cell_type": "markdown",
   "metadata": {
    "id": "xaTOgD8rm4mU"
   },
   "source": [
    "### Adding a second convolutional layer"
   ]
  },
  {
   "cell_type": "code",
   "execution_count": 397,
   "metadata": {
    "id": "i_-FZjn_m8gk"
   },
   "outputs": [],
   "source": [
    "cnn.add(tf.keras.layers.Conv2D(filters=32, kernel_size=3, activation='relu'))\n",
    "cnn.add(tf.keras.layers.MaxPool2D(pool_size=2, strides=2))"
   ]
  },
  {
   "cell_type": "code",
   "execution_count": 398,
   "metadata": {},
   "outputs": [],
   "source": [
    "cnn.add(tf.keras.layers.Conv2D(filters=32, kernel_size=3, activation='relu'))\n",
    "cnn.add(tf.keras.layers.MaxPool2D(pool_size=2, strides=2)) "
   ]
  },
  {
   "cell_type": "code",
   "execution_count": 399,
   "metadata": {},
   "outputs": [],
   "source": [
    "cnn.add(tf.keras.layers.Conv2D(filters=32, kernel_size=3, activation='relu'))\n",
    "cnn.add(tf.keras.layers.MaxPool2D(pool_size=2, strides=2))"
   ]
  },
  {
   "cell_type": "markdown",
   "metadata": {
    "id": "tmiEuvTunKfk"
   },
   "source": [
    "### Step 3 - Flattening"
   ]
  },
  {
   "cell_type": "code",
   "execution_count": 400,
   "metadata": {
    "id": "6AZeOGCvnNZn"
   },
   "outputs": [],
   "source": [
    "cnn.add(tf.keras.layers.Flatten())"
   ]
  },
  {
   "cell_type": "markdown",
   "metadata": {
    "id": "dAoSECOm203v"
   },
   "source": [
    "### Step 4 - Full Connection"
   ]
  },
  {
   "cell_type": "code",
   "execution_count": 401,
   "metadata": {
    "id": "8GtmUlLd26Nq"
   },
   "outputs": [],
   "source": [
    "cnn.add(tf.keras.layers.Dense(units=128, activation='relu'))"
   ]
  },
  {
   "cell_type": "markdown",
   "metadata": {
    "id": "yTldFvbX28Na"
   },
   "source": [
    "### Step 5 - Output Layer"
   ]
  },
  {
   "cell_type": "code",
   "execution_count": 402,
   "metadata": {
    "id": "1p_Zj1Mc3Ko_"
   },
   "outputs": [],
   "source": [
    "cnn.add(tf.keras.layers.Dense(units=1, activation='sigmoid'))"
   ]
  },
  {
   "cell_type": "markdown",
   "metadata": {
    "id": "D6XkI90snSDl"
   },
   "source": [
    "## Part 3 - Training the CNN"
   ]
  },
  {
   "cell_type": "markdown",
   "metadata": {
    "id": "vfrFQACEnc6i"
   },
   "source": [
    "### Compiling the CNN"
   ]
  },
  {
   "cell_type": "code",
   "execution_count": 403,
   "metadata": {
    "id": "NALksrNQpUlJ"
   },
   "outputs": [],
   "source": [
    "cnn.compile(optimizer = 'adam', loss = 'binary_crossentropy', metrics = ['accuracy'])"
   ]
  },
  {
   "cell_type": "markdown",
   "metadata": {
    "id": "ehS-v3MIpX2h"
   },
   "source": [
    "### Training the CNN on the Training set and evaluating it on the Test set"
   ]
  },
  {
   "cell_type": "code",
   "execution_count": 404,
   "metadata": {
    "id": "XUj1W4PJptta"
   },
   "outputs": [
    {
     "name": "stdout",
     "output_type": "stream",
     "text": [
      "Epoch 1/25\n",
      "250/250 [==============================] - 92s 367ms/step - loss: 0.6720 - accuracy: 0.5781 - val_loss: 0.6490 - val_accuracy: 0.6425\n",
      "Epoch 2/25\n",
      "250/250 [==============================] - 90s 361ms/step - loss: 0.6167 - accuracy: 0.6672 - val_loss: 0.5696 - val_accuracy: 0.7060\n",
      "Epoch 3/25\n",
      "250/250 [==============================] - 89s 355ms/step - loss: 0.5694 - accuracy: 0.7044 - val_loss: 0.6292 - val_accuracy: 0.6795\n",
      "Epoch 4/25\n",
      "250/250 [==============================] - 89s 355ms/step - loss: 0.5428 - accuracy: 0.7209 - val_loss: 0.5321 - val_accuracy: 0.7325\n",
      "Epoch 5/25\n",
      "250/250 [==============================] - 89s 356ms/step - loss: 0.5072 - accuracy: 0.7521 - val_loss: 0.4889 - val_accuracy: 0.7695\n",
      "Epoch 6/25\n",
      "250/250 [==============================] - 89s 356ms/step - loss: 0.4804 - accuracy: 0.7661 - val_loss: 0.4740 - val_accuracy: 0.7730\n",
      "Epoch 7/25\n",
      "250/250 [==============================] - 89s 356ms/step - loss: 0.4690 - accuracy: 0.7738 - val_loss: 0.4434 - val_accuracy: 0.7950\n",
      "Epoch 8/25\n",
      "250/250 [==============================] - 89s 355ms/step - loss: 0.4377 - accuracy: 0.7941 - val_loss: 0.4275 - val_accuracy: 0.8020\n",
      "Epoch 9/25\n",
      "250/250 [==============================] - 89s 355ms/step - loss: 0.4223 - accuracy: 0.8051 - val_loss: 0.4106 - val_accuracy: 0.8185\n",
      "Epoch 10/25\n",
      "250/250 [==============================] - 88s 353ms/step - loss: 0.4060 - accuracy: 0.8133 - val_loss: 0.3959 - val_accuracy: 0.8260\n",
      "Epoch 11/25\n",
      "250/250 [==============================] - 89s 355ms/step - loss: 0.3874 - accuracy: 0.8210 - val_loss: 0.4030 - val_accuracy: 0.8225\n",
      "Epoch 12/25\n",
      "250/250 [==============================] - 88s 352ms/step - loss: 0.3675 - accuracy: 0.8303 - val_loss: 0.4041 - val_accuracy: 0.8215\n",
      "Epoch 13/25\n",
      "250/250 [==============================] - 88s 353ms/step - loss: 0.3587 - accuracy: 0.8382 - val_loss: 0.3738 - val_accuracy: 0.8425\n",
      "Epoch 14/25\n",
      "250/250 [==============================] - 88s 352ms/step - loss: 0.3459 - accuracy: 0.8436 - val_loss: 0.3783 - val_accuracy: 0.8375\n",
      "Epoch 15/25\n",
      "250/250 [==============================] - 88s 352ms/step - loss: 0.3280 - accuracy: 0.8556 - val_loss: 0.3515 - val_accuracy: 0.8555\n",
      "Epoch 16/25\n",
      "250/250 [==============================] - 88s 353ms/step - loss: 0.3112 - accuracy: 0.8604 - val_loss: 0.3558 - val_accuracy: 0.8375\n",
      "Epoch 17/25\n",
      "250/250 [==============================] - 88s 353ms/step - loss: 0.3030 - accuracy: 0.8686 - val_loss: 0.3534 - val_accuracy: 0.8560\n",
      "Epoch 18/25\n",
      "250/250 [==============================] - 88s 352ms/step - loss: 0.2919 - accuracy: 0.8745 - val_loss: 0.3324 - val_accuracy: 0.8580\n",
      "Epoch 19/25\n",
      "250/250 [==============================] - 88s 352ms/step - loss: 0.2783 - accuracy: 0.8800 - val_loss: 0.3230 - val_accuracy: 0.8710\n",
      "Epoch 20/25\n",
      "250/250 [==============================] - 88s 352ms/step - loss: 0.2720 - accuracy: 0.8809 - val_loss: 0.3502 - val_accuracy: 0.8535\n",
      "Epoch 21/25\n",
      "250/250 [==============================] - 88s 351ms/step - loss: 0.2670 - accuracy: 0.8846 - val_loss: 0.3356 - val_accuracy: 0.8635\n",
      "Epoch 22/25\n",
      "250/250 [==============================] - 88s 351ms/step - loss: 0.2488 - accuracy: 0.8932 - val_loss: 0.3653 - val_accuracy: 0.8600\n",
      "Epoch 23/25\n",
      "250/250 [==============================] - 88s 353ms/step - loss: 0.2429 - accuracy: 0.8969 - val_loss: 0.4121 - val_accuracy: 0.8275\n",
      "Epoch 24/25\n",
      "250/250 [==============================] - 88s 351ms/step - loss: 0.2366 - accuracy: 0.8964 - val_loss: 0.3793 - val_accuracy: 0.8515\n",
      "Epoch 25/25\n",
      "250/250 [==============================] - 88s 351ms/step - loss: 0.2294 - accuracy: 0.9071 - val_loss: 0.3381 - val_accuracy: 0.8690\n"
     ]
    },
    {
     "data": {
      "text/plain": [
       "<keras.callbacks.History at 0x1978856e280>"
      ]
     },
     "execution_count": 404,
     "metadata": {},
     "output_type": "execute_result"
    }
   ],
   "source": [
    "cnn.fit(x = training_set, validation_data = test_set, epochs = 25)"
   ]
  },
  {
   "cell_type": "markdown",
   "metadata": {
    "id": "U3PZasO0006Z"
   },
   "source": [
    "## Part 4 - Making a single prediction"
   ]
  },
  {
   "cell_type": "code",
   "execution_count": 413,
   "metadata": {
    "id": "gsSiWEJY1BPB"
   },
   "outputs": [
    {
     "name": "stdout",
     "output_type": "stream",
     "text": [
      "1/1 [==============================] - 0s 16ms/step\n"
     ]
    }
   ],
   "source": [
    "import numpy as np\n",
    "test_image = tf.keras.utils.load_img('dataset/single_prediction/cat_or_dog_2.jpg', target_size = (128, 128))\n",
    "test_image = tf.keras.utils.img_to_array(test_image)\n",
    "test_image = np.expand_dims(test_image, axis = 0)\n",
    "result = cnn.predict(test_image)\n",
    "training_set.class_indices\n",
    "if result[0][0] == 1:\n",
    "  prediction = 'dog'\n",
    "else:\n",
    "  prediction = 'cat'"
   ]
  },
  {
   "cell_type": "code",
   "execution_count": 414,
   "metadata": {
    "id": "ED9KB3I54c1i"
   },
   "outputs": [
    {
     "name": "stdout",
     "output_type": "stream",
     "text": [
      "cat\n"
     ]
    }
   ],
   "source": [
    "print(prediction)"
   ]
  },
  {
   "cell_type": "code",
   "execution_count": null,
   "metadata": {},
   "outputs": [],
   "source": []
  },
  {
   "cell_type": "code",
   "execution_count": null,
   "metadata": {},
   "outputs": [],
   "source": []
  },
  {
   "cell_type": "code",
   "execution_count": null,
   "metadata": {},
   "outputs": [],
   "source": []
  },
  {
   "cell_type": "code",
   "execution_count": null,
   "metadata": {},
   "outputs": [],
   "source": []
  },
  {
   "cell_type": "code",
   "execution_count": null,
   "metadata": {},
   "outputs": [],
   "source": []
  }
 ],
 "metadata": {
  "colab": {
   "collapsed_sections": [],
   "provenance": [],
   "toc_visible": true
  },
  "kernelspec": {
   "display_name": "Python 3 (ipykernel)",
   "language": "python",
   "name": "python3"
  },
  "language_info": {
   "codemirror_mode": {
    "name": "ipython",
    "version": 3
   },
   "file_extension": ".py",
   "mimetype": "text/x-python",
   "name": "python",
   "nbconvert_exporter": "python",
   "pygments_lexer": "ipython3",
   "version": "3.9.13"
  }
 },
 "nbformat": 4,
 "nbformat_minor": 1
}
